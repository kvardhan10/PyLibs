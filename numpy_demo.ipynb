{
 "cells": [
  {
   "cell_type": "code",
   "execution_count": 1,
   "id": "a59ba290",
   "metadata": {},
   "outputs": [],
   "source": [
    "import numpy as np\n",
    "import math\n"
   ]
  },
  {
   "cell_type": "code",
   "execution_count": 5,
   "id": "f8975840",
   "metadata": {},
   "outputs": [
    {
     "data": {
      "text/plain": [
       "dtype('float64')"
      ]
     },
     "execution_count": 5,
     "metadata": {},
     "output_type": "execute_result"
    }
   ],
   "source": [
    "a = np.array([[1,2,3],[2.2,3.3,4.4]])\n",
    "x = a.shape\n",
    "a.dtype\n"
   ]
  },
  {
   "cell_type": "code",
   "execution_count": 6,
   "id": "ecbdbb5b",
   "metadata": {},
   "outputs": [
    {
     "data": {
      "text/plain": [
       "(2, 3)"
      ]
     },
     "execution_count": 6,
     "metadata": {},
     "output_type": "execute_result"
    }
   ],
   "source": [
    "x\n"
   ]
  },
  {
   "cell_type": "code",
   "execution_count": 7,
   "id": "19ae296b",
   "metadata": {},
   "outputs": [
    {
     "data": {
      "text/plain": [
       "array([[1. , 2. , 3. ],\n",
       "       [2.2, 3.3, 4.4]])"
      ]
     },
     "execution_count": 7,
     "metadata": {},
     "output_type": "execute_result"
    }
   ],
   "source": [
    "a\n"
   ]
  },
  {
   "cell_type": "code",
   "execution_count": 10,
   "id": "4f07af0b",
   "metadata": {},
   "outputs": [
    {
     "name": "stdout",
     "output_type": "stream",
     "text": [
      "[[0. 0.]\n",
      " [0. 0.]]\n"
     ]
    }
   ],
   "source": [
    "d = np.zeros((2,2))\n",
    "print(d)"
   ]
  },
  {
   "cell_type": "code",
   "execution_count": 11,
   "id": "33a1df0a",
   "metadata": {},
   "outputs": [
    {
     "data": {
      "text/plain": [
       "array([[1., 1., 1.],\n",
       "       [1., 1., 1.]])"
      ]
     },
     "execution_count": 11,
     "metadata": {},
     "output_type": "execute_result"
    }
   ],
   "source": [
    "e = np.ones((2,3))\n",
    "e"
   ]
  },
  {
   "cell_type": "code",
   "execution_count": 13,
   "id": "8bda88b8",
   "metadata": {},
   "outputs": [
    {
     "data": {
      "text/plain": [
       "array([[0.12583775, 0.22481501, 0.0457521 ],\n",
       "       [0.12697179, 0.8027072 , 0.08769373],\n",
       "       [0.79283927, 0.93402019, 0.78995512]])"
      ]
     },
     "execution_count": 13,
     "metadata": {},
     "output_type": "execute_result"
    }
   ],
   "source": [
    "f = np.random.rand(3,3)\n",
    "f"
   ]
  },
  {
   "cell_type": "code",
   "execution_count": 14,
   "id": "f65ea85e",
   "metadata": {},
   "outputs": [
    {
     "data": {
      "text/plain": [
       "array([ 5, 10, 15, 20, 25, 30, 35, 40, 45, 50, 55, 60, 65, 70, 75, 80, 85,\n",
       "       90, 95])"
      ]
     },
     "execution_count": 14,
     "metadata": {},
     "output_type": "execute_result"
    }
   ],
   "source": [
    "g = np.arange(5,100,5) # 5 inclusive, 100, exclusive, 5 difference between them\n",
    "g"
   ]
  },
  {
   "cell_type": "code",
   "execution_count": 15,
   "id": "be797c3f",
   "metadata": {},
   "outputs": [
    {
     "data": {
      "text/plain": [
       "array([1.        , 1.07142857, 1.14285714, 1.21428571, 1.28571429,\n",
       "       1.35714286, 1.42857143, 1.5       , 1.57142857, 1.64285714,\n",
       "       1.71428571, 1.78571429, 1.85714286, 1.92857143, 2.        ])"
      ]
     },
     "execution_count": 15,
     "metadata": {},
     "output_type": "execute_result"
    }
   ],
   "source": [
    "h = np.linspace(1,2,15) #1 inclusive, 2 inclusive, 15 numbers between them\n",
    "h"
   ]
  },
  {
   "cell_type": "code",
   "execution_count": 17,
   "id": "3a7ae172",
   "metadata": {},
   "outputs": [
    {
     "data": {
      "text/plain": [
       "array([[0. , 1. , 2. ],\n",
       "       [1.2, 2.3, 3.4]])"
      ]
     },
     "execution_count": 17,
     "metadata": {},
     "output_type": "execute_result"
    }
   ],
   "source": [
    "a-e"
   ]
  },
  {
   "cell_type": "code",
   "execution_count": 18,
   "id": "4937799d",
   "metadata": {},
   "outputs": [
    {
     "data": {
      "text/plain": [
       "array([[1. , 2. , 3. ],\n",
       "       [2.2, 3.3, 4.4]])"
      ]
     },
     "execution_count": 18,
     "metadata": {},
     "output_type": "execute_result"
    }
   ],
   "source": [
    "a*e"
   ]
  },
  {
   "cell_type": "code",
   "execution_count": 19,
   "id": "6c03bc23",
   "metadata": {},
   "outputs": [
    {
     "data": {
      "text/plain": [
       "array([[False,  True,  True],\n",
       "       [ True,  True,  True]])"
      ]
     },
     "execution_count": 19,
     "metadata": {},
     "output_type": "execute_result"
    }
   ],
   "source": [
    "a*e > 1 #getting boolean values"
   ]
  },
  {
   "cell_type": "code",
   "execution_count": 21,
   "id": "ad3a426a",
   "metadata": {},
   "outputs": [
    {
     "data": {
      "text/plain": [
       "array([[ 2, 12],\n",
       "       [30, 48]])"
      ]
     },
     "execution_count": 21,
     "metadata": {},
     "output_type": "execute_result"
    }
   ],
   "source": [
    "k = np.array([[1,3],[5,6]])\n",
    "l = np.array([[2,4],[6,8]])\n",
    "k*l #element wise product"
   ]
  },
  {
   "cell_type": "code",
   "execution_count": 22,
   "id": "05d12c99",
   "metadata": {},
   "outputs": [
    {
     "data": {
      "text/plain": [
       "array([[20, 28],\n",
       "       [46, 68]])"
      ]
     },
     "execution_count": 22,
     "metadata": {},
     "output_type": "execute_result"
    }
   ],
   "source": [
    "k@l #matrix product"
   ]
  },
  {
   "cell_type": "code",
   "execution_count": 23,
   "id": "3b0d8fb4",
   "metadata": {},
   "outputs": [
    {
     "data": {
      "text/plain": [
       "array([[ 3,  7],\n",
       "       [11, 14]])"
      ]
     },
     "execution_count": 23,
     "metadata": {},
     "output_type": "execute_result"
    }
   ],
   "source": [
    "k+l"
   ]
  },
  {
   "cell_type": "code",
   "execution_count": 24,
   "id": "464af258",
   "metadata": {},
   "outputs": [
    {
     "data": {
      "text/plain": [
       "array([[-1, -1],\n",
       "       [-1, -2]])"
      ]
     },
     "execution_count": 24,
     "metadata": {},
     "output_type": "execute_result"
    }
   ],
   "source": [
    "k-l"
   ]
  },
  {
   "cell_type": "code",
   "execution_count": 25,
   "id": "a058d16b",
   "metadata": {},
   "outputs": [],
   "source": [
    "from PIL import Image\n",
    "from IPython.display import display"
   ]
  },
  {
   "cell_type": "code",
   "execution_count": 28,
   "id": "6d73b30f",
   "metadata": {},
   "outputs": [
    {
     "data": {
      "image/png": "[encoded data removed]",
      "text/plain": [
       "<PIL.JpegImagePlugin.JpegImageFile image mode=RGB size=221x228 at 0x2825F7EFD30>"
      ]
     },
     "metadata": {},
     "output_type": "display_data"
    }
   ],
   "source": [
    "pic = Image.open('dogs.jpeg')\n",
    "display(pic)"
   ]
  },
  {
   "cell_type": "code",
   "execution_count": 31,
   "id": "b62ddca4",
   "metadata": {},
   "outputs": [
    {
     "name": "stdout",
     "output_type": "stream",
     "text": [
      "[[[225 209 196]\n",
      "  [225 209 196]\n",
      "  [225 209 196]\n",
      "  ...\n",
      "  [233 227 227]\n",
      "  [233 227 227]\n",
      "  [233 227 227]]\n",
      "\n",
      " [[225 209 196]\n",
      "  [225 209 196]\n",
      "  [225 209 196]\n",
      "  ...\n",
      "  [233 227 227]\n",
      "  [233 227 227]\n",
      "  [233 227 227]]\n",
      "\n",
      " [[225 209 196]\n",
      "  [225 209 196]\n",
      "  [225 209 196]\n",
      "  ...\n",
      "  [233 227 227]\n",
      "  [233 227 227]\n",
      "  [233 227 227]]\n",
      "\n",
      " ...\n",
      "\n",
      " [[208 189 175]\n",
      "  [208 189 175]\n",
      "  [208 189 175]\n",
      "  ...\n",
      "  [154  97  54]\n",
      "  [159 100  58]\n",
      "  [161 102  58]]\n",
      "\n",
      " [[208 189 175]\n",
      "  [208 189 175]\n",
      "  [208 189 175]\n",
      "  ...\n",
      "  [154  97  54]\n",
      "  [159 100  58]\n",
      "  [161 102  58]]\n",
      "\n",
      " [[208 189 175]\n",
      "  [208 189 175]\n",
      "  [208 189 175]\n",
      "  ...\n",
      "  [154  97  54]\n",
      "  [159 100  58]\n",
      "  [161 102  58]]]\n"
     ]
    }
   ],
   "source": [
    "pic_array = np.array(pic)\n",
    "print(pic_array)"
   ]
  },
  {
   "cell_type": "code",
   "execution_count": 32,
   "id": "c51e3e4a",
   "metadata": {},
   "outputs": [
    {
     "data": {
      "text/plain": [
       "(228, 221, 3)"
      ]
     },
     "execution_count": 32,
     "metadata": {},
     "output_type": "execute_result"
    }
   ],
   "source": [
    "pic_array.shape"
   ]
  },
  {
   "cell_type": "code",
   "execution_count": 33,
   "id": "0f97b0af",
   "metadata": {},
   "outputs": [
    {
     "data": {
      "text/plain": [
       "dtype('uint8')"
      ]
     },
     "execution_count": 33,
     "metadata": {},
     "output_type": "execute_result"
    }
   ],
   "source": [
    "pic_array.dtype\n"
   ]
  },
  {
   "cell_type": "code",
   "execution_count": 34,
   "id": "517d0005",
   "metadata": {},
   "outputs": [],
   "source": [
    "pic2_array = np.full(pic_array.shape,255)"
   ]
  },
  {
   "cell_type": "code",
   "execution_count": 35,
   "id": "bd6e984f",
   "metadata": {},
   "outputs": [
    {
     "data": {
      "text/plain": [
       "array([[[255, 255, 255],\n",
       "        [255, 255, 255],\n",
       "        [255, 255, 255],\n",
       "        ...,\n",
       "        [255, 255, 255],\n",
       "        [255, 255, 255],\n",
       "        [255, 255, 255]],\n",
       "\n",
       "       [[255, 255, 255],\n",
       "        [255, 255, 255],\n",
       "        [255, 255, 255],\n",
       "        ...,\n",
       "        [255, 255, 255],\n",
       "        [255, 255, 255],\n",
       "        [255, 255, 255]],\n",
       "\n",
       "       [[255, 255, 255],\n",
       "        [255, 255, 255],\n",
       "        [255, 255, 255],\n",
       "        ...,\n",
       "        [255, 255, 255],\n",
       "        [255, 255, 255],\n",
       "        [255, 255, 255]],\n",
       "\n",
       "       ...,\n",
       "\n",
       "       [[255, 255, 255],\n",
       "        [255, 255, 255],\n",
       "        [255, 255, 255],\n",
       "        ...,\n",
       "        [255, 255, 255],\n",
       "        [255, 255, 255],\n",
       "        [255, 255, 255]],\n",
       "\n",
       "       [[255, 255, 255],\n",
       "        [255, 255, 255],\n",
       "        [255, 255, 255],\n",
       "        ...,\n",
       "        [255, 255, 255],\n",
       "        [255, 255, 255],\n",
       "        [255, 255, 255]],\n",
       "\n",
       "       [[255, 255, 255],\n",
       "        [255, 255, 255],\n",
       "        [255, 255, 255],\n",
       "        ...,\n",
       "        [255, 255, 255],\n",
       "        [255, 255, 255],\n",
       "        [255, 255, 255]]])"
      ]
     },
     "execution_count": 35,
     "metadata": {},
     "output_type": "execute_result"
    }
   ],
   "source": [
    "pic2_array"
   ]
  },
  {
   "cell_type": "code",
   "execution_count": 36,
   "id": "04794251",
   "metadata": {},
   "outputs": [
    {
     "data": {
      "text/plain": [
       "(228, 221, 3)"
      ]
     },
     "execution_count": 36,
     "metadata": {},
     "output_type": "execute_result"
    }
   ],
   "source": [
    "pic2_array.shape"
   ]
  },
  {
   "cell_type": "code",
   "execution_count": 42,
   "id": "a584141d",
   "metadata": {},
   "outputs": [
    {
     "data": {
      "text/plain": [
       "array([[[255, 255, 255],\n",
       "        [255, 255, 255],\n",
       "        [255, 255, 255],\n",
       "        ...,\n",
       "        [255, 255, 255],\n",
       "        [255, 255, 255],\n",
       "        [255, 255, 255]],\n",
       "\n",
       "       [[255, 255, 255],\n",
       "        [255, 255, 255],\n",
       "        [255, 255, 255],\n",
       "        ...,\n",
       "        [255, 255, 255],\n",
       "        [255, 255, 255],\n",
       "        [255, 255, 255]],\n",
       "\n",
       "       [[255, 255, 255],\n",
       "        [255, 255, 255],\n",
       "        [255, 255, 255],\n",
       "        ...,\n",
       "        [255, 255, 255],\n",
       "        [255, 255, 255],\n",
       "        [255, 255, 255]],\n",
       "\n",
       "       ...,\n",
       "\n",
       "       [[255, 255, 255],\n",
       "        [255, 255, 255],\n",
       "        [255, 255, 255],\n",
       "        ...,\n",
       "        [255, 255, 255],\n",
       "        [255, 255, 255],\n",
       "        [255, 255, 255]],\n",
       "\n",
       "       [[255, 255, 255],\n",
       "        [255, 255, 255],\n",
       "        [255, 255, 255],\n",
       "        ...,\n",
       "        [255, 255, 255],\n",
       "        [255, 255, 255],\n",
       "        [255, 255, 255]],\n",
       "\n",
       "       [[255, 255, 255],\n",
       "        [255, 255, 255],\n",
       "        [255, 255, 255],\n",
       "        ...,\n",
       "        [255, 255, 255],\n",
       "        [255, 255, 255],\n",
       "        [255, 255, 255]]])"
      ]
     },
     "execution_count": 42,
     "metadata": {},
     "output_type": "execute_result"
    }
   ],
   "source": [
    "pic2_array=np.full(pic_array.shape,255)\n",
    "pic2_array"
   ]
  },
  {
   "cell_type": "code",
   "execution_count": 43,
   "id": "11abca38",
   "metadata": {},
   "outputs": [],
   "source": [
    "pic2_array = pic_array-pic2_array"
   ]
  },
  {
   "cell_type": "code",
   "execution_count": 44,
   "id": "36b186ad",
   "metadata": {},
   "outputs": [
    {
     "data": {
      "text/plain": [
       "array([[[ -30,  -46,  -59],\n",
       "        [ -30,  -46,  -59],\n",
       "        [ -30,  -46,  -59],\n",
       "        ...,\n",
       "        [ -22,  -28,  -28],\n",
       "        [ -22,  -28,  -28],\n",
       "        [ -22,  -28,  -28]],\n",
       "\n",
       "       [[ -30,  -46,  -59],\n",
       "        [ -30,  -46,  -59],\n",
       "        [ -30,  -46,  -59],\n",
       "        ...,\n",
       "        [ -22,  -28,  -28],\n",
       "        [ -22,  -28,  -28],\n",
       "        [ -22,  -28,  -28]],\n",
       "\n",
       "       [[ -30,  -46,  -59],\n",
       "        [ -30,  -46,  -59],\n",
       "        [ -30,  -46,  -59],\n",
       "        ...,\n",
       "        [ -22,  -28,  -28],\n",
       "        [ -22,  -28,  -28],\n",
       "        [ -22,  -28,  -28]],\n",
       "\n",
       "       ...,\n",
       "\n",
       "       [[ -47,  -66,  -80],\n",
       "        [ -47,  -66,  -80],\n",
       "        [ -47,  -66,  -80],\n",
       "        ...,\n",
       "        [-101, -158, -201],\n",
       "        [ -96, -155, -197],\n",
       "        [ -94, -153, -197]],\n",
       "\n",
       "       [[ -47,  -66,  -80],\n",
       "        [ -47,  -66,  -80],\n",
       "        [ -47,  -66,  -80],\n",
       "        ...,\n",
       "        [-101, -158, -201],\n",
       "        [ -96, -155, -197],\n",
       "        [ -94, -153, -197]],\n",
       "\n",
       "       [[ -47,  -66,  -80],\n",
       "        [ -47,  -66,  -80],\n",
       "        [ -47,  -66,  -80],\n",
       "        ...,\n",
       "        [-101, -158, -201],\n",
       "        [ -96, -155, -197],\n",
       "        [ -94, -153, -197]]])"
      ]
     },
     "execution_count": 44,
     "metadata": {},
     "output_type": "execute_result"
    }
   ],
   "source": [
    "pic2_array"
   ]
  },
  {
   "cell_type": "code",
   "execution_count": 45,
   "id": "59eb5203",
   "metadata": {},
   "outputs": [
    {
     "data": {
      "text/plain": [
       "array([[[ 30,  46,  59],\n",
       "        [ 30,  46,  59],\n",
       "        [ 30,  46,  59],\n",
       "        ...,\n",
       "        [ 22,  28,  28],\n",
       "        [ 22,  28,  28],\n",
       "        [ 22,  28,  28]],\n",
       "\n",
       "       [[ 30,  46,  59],\n",
       "        [ 30,  46,  59],\n",
       "        [ 30,  46,  59],\n",
       "        ...,\n",
       "        [ 22,  28,  28],\n",
       "        [ 22,  28,  28],\n",
       "        [ 22,  28,  28]],\n",
       "\n",
       "       [[ 30,  46,  59],\n",
       "        [ 30,  46,  59],\n",
       "        [ 30,  46,  59],\n",
       "        ...,\n",
       "        [ 22,  28,  28],\n",
       "        [ 22,  28,  28],\n",
       "        [ 22,  28,  28]],\n",
       "\n",
       "       ...,\n",
       "\n",
       "       [[ 47,  66,  80],\n",
       "        [ 47,  66,  80],\n",
       "        [ 47,  66,  80],\n",
       "        ...,\n",
       "        [101, 158, 201],\n",
       "        [ 96, 155, 197],\n",
       "        [ 94, 153, 197]],\n",
       "\n",
       "       [[ 47,  66,  80],\n",
       "        [ 47,  66,  80],\n",
       "        [ 47,  66,  80],\n",
       "        ...,\n",
       "        [101, 158, 201],\n",
       "        [ 96, 155, 197],\n",
       "        [ 94, 153, 197]],\n",
       "\n",
       "       [[ 47,  66,  80],\n",
       "        [ 47,  66,  80],\n",
       "        [ 47,  66,  80],\n",
       "        ...,\n",
       "        [101, 158, 201],\n",
       "        [ 96, 155, 197],\n",
       "        [ 94, 153, 197]]])"
      ]
     },
     "execution_count": 45,
     "metadata": {},
     "output_type": "execute_result"
    }
   ],
   "source": [
    "pic2_array = pic2_array * -1\n",
    "pic2_array"
   ]
  },
  {
   "cell_type": "code",
   "execution_count": 47,
   "id": "f229c746",
   "metadata": {},
   "outputs": [
    {
     "data": {
      "text/plain": [
       "dtype('int32')"
      ]
     },
     "execution_count": 47,
     "metadata": {},
     "output_type": "execute_result"
    }
   ],
   "source": [
    "pic2_array.dtype"
   ]
  },
  {
   "cell_type": "code",
   "execution_count": 49,
   "id": "e33f99bd",
   "metadata": {},
   "outputs": [
    {
     "data": {
      "text/plain": [
       "dtype('uint8')"
      ]
     },
     "execution_count": 49,
     "metadata": {},
     "output_type": "execute_result"
    }
   ],
   "source": [
    "pic2_array = pic2_array.astype(np.uint8)\n",
    "pic2_array.dtype"
   ]
  },
  {
   "cell_type": "code",
   "execution_count": 90,
   "id": "e07517b1",
   "metadata": {},
   "outputs": [
    {
     "data": {
      "image/png": "[encoded data removed]",
      "text/plain": [
       "<PIL.Image.Image image mode=RGB size=221x228 at 0x2826260DC70>"
      ]
     },
     "metadata": {},
     "output_type": "display_data"
    }
   ],
   "source": [
    "display(Image.fromarray(pic2_array))"
   ]
  },
  {
   "cell_type": "code",
   "execution_count": 91,
   "id": "7c3cfd43",
   "metadata": {},
   "outputs": [
    {
     "data": {
      "text/plain": [
       "array([1.00000e+00, 2.00000e+00, 3.00000e+00, 4.00000e+00, 6.00000e+00,\n",
       "       9.00000e+00, 1.20000e+01, 1.30000e+01, 1.70000e+01, 1.80000e+01,\n",
       "       1.90000e+01, 2.60000e+01, 3.40000e+01, 3.60000e+01, 3.80000e+01,\n",
       "       3.90000e+01, 5.10000e+01, 5.20000e+01, 5.70000e+01, 6.80000e+01,\n",
       "       7.60000e+01, 7.80000e+01, 1.02000e+02, 1.14000e+02, 1.17000e+02,\n",
       "       1.53000e+02, 1.56000e+02, 1.71000e+02, 2.04000e+02, 2.21000e+02,\n",
       "       2.28000e+02, 2.34000e+02, 2.47000e+02, 3.06000e+02, 3.23000e+02,\n",
       "       3.42000e+02, 4.42000e+02, 4.68000e+02, 4.94000e+02, 6.12000e+02,\n",
       "       6.46000e+02, 6.63000e+02, 6.84000e+02, 7.41000e+02, 8.84000e+02,\n",
       "       9.69000e+02, 9.88000e+02, 1.29200e+03, 1.32600e+03, 1.48200e+03,\n",
       "       1.93800e+03, 1.98900e+03, 2.22300e+03, 2.65200e+03, 2.90700e+03,\n",
       "       2.96400e+03, 3.87600e+03, 3.97800e+03, 4.19900e+03, 4.44600e+03,\n",
       "       5.81400e+03, 7.95600e+03, 8.39800e+03, 8.89200e+03, 1.16280e+04,\n",
       "       1.25970e+04, 1.67960e+04, 2.51940e+04, 3.77910e+04, 5.03880e+04,\n",
       "       7.55820e+04, 1.51164e+05])"
      ]
     },
     "execution_count": 91,
     "metadata": {},
     "output_type": "execute_result"
    }
   ],
   "source": [
    "values = np.genfromtxt('factors.txt', delimiter=',')\n",
    "values\n"
   ]
  },
  {
   "cell_type": "code",
   "execution_count": 92,
   "id": "0ec4911e",
   "metadata": {},
   "outputs": [
    {
     "data": {
      "text/plain": [
       "dtype('float64')"
      ]
     },
     "execution_count": 92,
     "metadata": {},
     "output_type": "execute_result"
    }
   ],
   "source": [
    "values.dtype"
   ]
  },
  {
   "cell_type": "code",
   "execution_count": 93,
   "id": "0bdaa805",
   "metadata": {},
   "outputs": [
    {
     "data": {
      "text/plain": [
       "1.0"
      ]
     },
     "execution_count": 93,
     "metadata": {},
     "output_type": "execute_result"
    }
   ],
   "source": [
    "values[0]"
   ]
  },
  {
   "cell_type": "code",
   "execution_count": 94,
   "id": "5db07efb",
   "metadata": {},
   "outputs": [
    {
     "data": {
      "text/plain": [
       "array([1.0000e+00, 2.0000e+00, 3.0000e+00, 4.0000e+00, 6.0000e+00,\n",
       "       9.0000e+00, 1.2000e+01, 1.3000e+01, 1.7000e+01, 1.8000e+01,\n",
       "       1.9000e+01, 2.6000e+01, 3.4000e+01, 3.6000e+01, 3.8000e+01,\n",
       "       3.9000e+01, 5.1000e+01, 5.2000e+01, 5.7000e+01, 6.8000e+01,\n",
       "       7.6000e+01, 7.8000e+01, 1.0200e+02, 1.1400e+02, 1.1700e+02,\n",
       "       1.5300e+02, 1.5600e+02, 1.7100e+02, 2.0400e+02, 2.2100e+02,\n",
       "       2.2800e+02, 2.3400e+02, 2.4700e+02, 3.0600e+02, 3.2300e+02,\n",
       "       3.4200e+02, 4.4200e+02, 4.6800e+02, 4.9400e+02, 6.1200e+02,\n",
       "       6.4600e+02, 6.6300e+02, 6.8400e+02, 7.4100e+02, 8.8400e+02,\n",
       "       9.6900e+02, 9.8800e+02, 1.2920e+03, 1.3260e+03, 1.4820e+03,\n",
       "       1.9380e+03, 1.9890e+03, 2.2230e+03, 2.6520e+03, 2.9070e+03,\n",
       "       2.9640e+03, 3.8760e+03, 3.9780e+03, 4.1990e+03, 4.4460e+03,\n",
       "       5.8140e+03, 7.9560e+03, 8.3980e+03, 8.8920e+03, 1.1628e+04,\n",
       "       1.2597e+04, 1.6796e+04, 2.5194e+04, 3.7791e+04, 5.0388e+04,\n",
       "       7.5582e+04])"
      ]
     },
     "execution_count": 94,
     "metadata": {},
     "output_type": "execute_result"
    }
   ],
   "source": [
    "values[:-1]"
   ]
  },
  {
   "cell_type": "code",
   "execution_count": 95,
   "id": "bcfa39e6",
   "metadata": {},
   "outputs": [
    {
     "data": {
      "text/plain": [
       "151164.0"
      ]
     },
     "execution_count": 95,
     "metadata": {},
     "output_type": "execute_result"
    }
   ],
   "source": [
    "values[-1]"
   ]
  },
  {
   "cell_type": "code",
   "execution_count": 96,
   "id": "30482395",
   "metadata": {},
   "outputs": [
    {
     "data": {
      "text/plain": [
       "72"
      ]
     },
     "execution_count": 96,
     "metadata": {},
     "output_type": "execute_result"
    }
   ],
   "source": [
    "len(values)"
   ]
  },
  {
   "cell_type": "code",
   "execution_count": 97,
   "id": "376f6370",
   "metadata": {},
   "outputs": [],
   "source": [
    "rows = values[0:72]\n",
    "columns = values[72:]"
   ]
  },
  {
   "cell_type": "code",
   "execution_count": 98,
   "id": "aa47ebdf",
   "metadata": {},
   "outputs": [
    {
     "data": {
      "text/plain": [
       "array([1.00000e+00, 2.00000e+00, 3.00000e+00, 4.00000e+00, 6.00000e+00,\n",
       "       9.00000e+00, 1.20000e+01, 1.30000e+01, 1.70000e+01, 1.80000e+01,\n",
       "       1.90000e+01, 2.60000e+01, 3.40000e+01, 3.60000e+01, 3.80000e+01,\n",
       "       3.90000e+01, 5.10000e+01, 5.20000e+01, 5.70000e+01, 6.80000e+01,\n",
       "       7.60000e+01, 7.80000e+01, 1.02000e+02, 1.14000e+02, 1.17000e+02,\n",
       "       1.53000e+02, 1.56000e+02, 1.71000e+02, 2.04000e+02, 2.21000e+02,\n",
       "       2.28000e+02, 2.34000e+02, 2.47000e+02, 3.06000e+02, 3.23000e+02,\n",
       "       3.42000e+02, 4.42000e+02, 4.68000e+02, 4.94000e+02, 6.12000e+02,\n",
       "       6.46000e+02, 6.63000e+02, 6.84000e+02, 7.41000e+02, 8.84000e+02,\n",
       "       9.69000e+02, 9.88000e+02, 1.29200e+03, 1.32600e+03, 1.48200e+03,\n",
       "       1.93800e+03, 1.98900e+03, 2.22300e+03, 2.65200e+03, 2.90700e+03,\n",
       "       2.96400e+03, 3.87600e+03, 3.97800e+03, 4.19900e+03, 4.44600e+03,\n",
       "       5.81400e+03, 7.95600e+03, 8.39800e+03, 8.89200e+03, 1.16280e+04,\n",
       "       1.25970e+04, 1.67960e+04, 2.51940e+04, 3.77910e+04, 5.03880e+04,\n",
       "       7.55820e+04, 1.51164e+05])"
      ]
     },
     "execution_count": 98,
     "metadata": {},
     "output_type": "execute_result"
    }
   ],
   "source": [
    "rows\n"
   ]
  },
  {
   "cell_type": "code",
   "execution_count": 99,
   "id": "23a14e1e",
   "metadata": {},
   "outputs": [
    {
     "data": {
      "text/plain": [
       "array([], dtype=float64)"
      ]
     },
     "execution_count": 99,
     "metadata": {},
     "output_type": "execute_result"
    }
   ],
   "source": [
    "columns"
   ]
  },
  {
   "cell_type": "code",
   "execution_count": 100,
   "id": "f454f440",
   "metadata": {},
   "outputs": [],
   "source": [
    "rows = values[0:35]\n",
    "columns = values[35:71]"
   ]
  },
  {
   "cell_type": "code",
   "execution_count": 101,
   "id": "174cf9b4",
   "metadata": {},
   "outputs": [
    {
     "data": {
      "text/plain": [
       "array([  1.,   2.,   3.,   4.,   6.,   9.,  12.,  13.,  17.,  18.,  19.,\n",
       "        26.,  34.,  36.,  38.,  39.,  51.,  52.,  57.,  68.,  76.,  78.,\n",
       "       102., 114., 117., 153., 156., 171., 204., 221., 228., 234., 247.,\n",
       "       306., 323.])"
      ]
     },
     "execution_count": 101,
     "metadata": {},
     "output_type": "execute_result"
    }
   ],
   "source": [
    "rows\n"
   ]
  },
  {
   "cell_type": "code",
   "execution_count": 102,
   "id": "d5386606",
   "metadata": {},
   "outputs": [
    {
     "data": {
      "text/plain": [
       "array([  342.,   442.,   468.,   494.,   612.,   646.,   663.,   684.,\n",
       "         741.,   884.,   969.,   988.,  1292.,  1326.,  1482.,  1938.,\n",
       "        1989.,  2223.,  2652.,  2907.,  2964.,  3876.,  3978.,  4199.,\n",
       "        4446.,  5814.,  7956.,  8398.,  8892., 11628., 12597., 16796.,\n",
       "       25194., 37791., 50388., 75582.])"
      ]
     },
     "execution_count": 102,
     "metadata": {},
     "output_type": "execute_result"
    }
   ],
   "source": [
    "columns"
   ]
  },
  {
   "cell_type": "code",
   "execution_count": 103,
   "id": "502c8ebb",
   "metadata": {},
   "outputs": [
    {
     "data": {
      "text/plain": [
       "(36,)"
      ]
     },
     "execution_count": 103,
     "metadata": {},
     "output_type": "execute_result"
    }
   ],
   "source": [
    "columns.shape"
   ]
  },
  {
   "cell_type": "code",
   "execution_count": 104,
   "id": "343be8f4",
   "metadata": {},
   "outputs": [
    {
     "data": {
      "text/plain": [
       "array([75582.])"
      ]
     },
     "execution_count": 104,
     "metadata": {},
     "output_type": "execute_result"
    }
   ],
   "source": [
    "columns[-1:]"
   ]
  },
  {
   "cell_type": "code",
   "execution_count": 105,
   "id": "007487a0",
   "metadata": {},
   "outputs": [
    {
     "data": {
      "text/plain": [
       "array([], dtype=float64)"
      ]
     },
     "execution_count": 105,
     "metadata": {},
     "output_type": "execute_result"
    }
   ],
   "source": [
    "columns[-1:0]"
   ]
  },
  {
   "cell_type": "code",
   "execution_count": 106,
   "id": "ef94655d",
   "metadata": {},
   "outputs": [
    {
     "data": {
      "text/plain": [
       "array([], dtype=float64)"
      ]
     },
     "execution_count": 106,
     "metadata": {},
     "output_type": "execute_result"
    }
   ],
   "source": [
    "columns[-1:35]"
   ]
  },
  {
   "cell_type": "code",
   "execution_count": 109,
   "id": "64ad16c2",
   "metadata": {},
   "outputs": [
    {
     "data": {
      "text/plain": [
       "50388.0"
      ]
     },
     "execution_count": 109,
     "metadata": {},
     "output_type": "execute_result"
    }
   ],
   "source": [
    "columns[-2]"
   ]
  },
  {
   "cell_type": "code",
   "execution_count": 2,
   "id": "d08cf59e",
   "metadata": {},
   "outputs": [],
   "source": [
    "import numpy as np\n",
    "a1 = np.random.rand(4)\n",
    "a2 = np.random.rand(4, 1)\n",
    "a3 = np.array([[1, 2, 3, 4]])\n",
    "a4 = np.arange(1, 4, 1)\n",
    "a5 = np.linspace(1 ,4, 4)"
   ]
  },
  {
   "cell_type": "code",
   "execution_count": 3,
   "id": "63a507cc",
   "metadata": {},
   "outputs": [
    {
     "data": {
      "text/plain": [
       "(4,)"
      ]
     },
     "execution_count": 3,
     "metadata": {},
     "output_type": "execute_result"
    }
   ],
   "source": [
    "a1.shape"
   ]
  },
  {
   "cell_type": "code",
   "execution_count": 4,
   "id": "91f4ea93",
   "metadata": {},
   "outputs": [
    {
     "data": {
      "text/plain": [
       "(4, 1)"
      ]
     },
     "execution_count": 4,
     "metadata": {},
     "output_type": "execute_result"
    }
   ],
   "source": [
    "a2.shape"
   ]
  },
  {
   "cell_type": "code",
   "execution_count": 5,
   "id": "6d7b9ea5",
   "metadata": {},
   "outputs": [
    {
     "data": {
      "text/plain": [
       "(1, 4)"
      ]
     },
     "execution_count": 5,
     "metadata": {},
     "output_type": "execute_result"
    }
   ],
   "source": [
    "a3.shape"
   ]
  },
  {
   "cell_type": "code",
   "execution_count": 6,
   "id": "ef45f69a",
   "metadata": {},
   "outputs": [
    {
     "data": {
      "text/plain": [
       "(3,)"
      ]
     },
     "execution_count": 6,
     "metadata": {},
     "output_type": "execute_result"
    }
   ],
   "source": [
    "a4.shape"
   ]
  },
  {
   "cell_type": "code",
   "execution_count": 7,
   "id": "503b0c61",
   "metadata": {},
   "outputs": [
    {
     "data": {
      "text/plain": [
       "(4,)"
      ]
     },
     "execution_count": 7,
     "metadata": {},
     "output_type": "execute_result"
    }
   ],
   "source": [
    "a5.shape"
   ]
  },
  {
   "cell_type": "code",
   "execution_count": 8,
   "id": "509ff17b",
   "metadata": {},
   "outputs": [
    {
     "data": {
      "text/plain": [
       "1"
      ]
     },
     "execution_count": 8,
     "metadata": {},
     "output_type": "execute_result"
    }
   ],
   "source": [
    "a4.ndim"
   ]
  },
  {
   "cell_type": "code",
   "execution_count": 21,
   "id": "7fac7019",
   "metadata": {},
   "outputs": [
    {
     "data": {
      "text/plain": [
       "['AC']"
      ]
     },
     "execution_count": 21,
     "metadata": {},
     "output_type": "execute_result"
    }
   ],
   "source": [
    "import re \n",
    "s = 'ACBCAC'\n",
    "re.findall('^AC',s)"
   ]
  },
  {
   "cell_type": "code",
   "execution_count": 12,
   "id": "74d79d0c",
   "metadata": {},
   "outputs": [
    {
     "data": {
      "text/plain": [
       "5"
      ]
     },
     "execution_count": 12,
     "metadata": {},
     "output_type": "execute_result"
    }
   ],
   "source": [
    "import re\n",
    "s = 'ACAABAACAAAB'\n",
    "result = re.findall('A{1,2}', s)\n",
    "L = len(result)\n",
    "L"
   ]
  },
  {
   "cell_type": "code",
   "execution_count": 19,
   "id": "60111977",
   "metadata": {},
   "outputs": [
    {
     "name": "stdout",
     "output_type": "stream",
     "text": [
      "287\n"
     ]
    }
   ],
   "source": [
    "text=r'''Everyone has the following fundamental freedoms:\n",
    "    (a) freedom of conscience and religion;\n",
    "    (b) freedom of thought, belief, opinion and expression, including freedom of the press and other media of communication;\n",
    "    (c) freedom of peaceful assembly; and\n",
    "    (d) freedom of association.'''\n",
    "\n",
    "import re\n",
    "pattern = '(.)'\n",
    "print(len(re.findall(pattern,text)))"
   ]
  },
  {
   "cell_type": "code",
   "execution_count": 20,
   "id": "53addf31",
   "metadata": {},
   "outputs": [
    {
     "name": "stdout",
     "output_type": "stream",
     "text": [
      "[[0 0 1]\n",
      " [1 1 1]]\n"
     ]
    }
   ],
   "source": [
    "import numpy as np\n",
    "\n",
    "old = np.array([[1, 1, 1], [1, 1, 1]])\n",
    "new = old\n",
    "new[0, :2] = 0\n",
    "\n",
    "print(old)"
   ]
  },
  {
   "cell_type": "code",
   "execution_count": 23,
   "id": "7ad87d4c",
   "metadata": {},
   "outputs": [
    {
     "data": {
      "text/plain": [
       "California        NaN\n",
       "Ohio          35000.0\n",
       "Oregon        16000.0\n",
       "Texas         71000.0\n",
       "dtype: float64"
      ]
     },
     "execution_count": 23,
     "metadata": {},
     "output_type": "execute_result"
    }
   ],
   "source": [
    "import pandas as pd\n",
    "sdata = {'Ohio': 35000, 'Texas': 71000, 'Oregon': 16000, 'Utah': 5000}\n",
    "obj1 = pd.Series(sdata)\n",
    "states = ['California', 'Ohio', 'Oregon', 'Texas']\n",
    "obj2 = pd.Series(sdata, index=states)\n",
    "obj2"
   ]
  },
  {
   "cell_type": "code",
   "execution_count": 27,
   "id": "f84a2178",
   "metadata": {},
   "outputs": [
    {
     "data": {
      "text/plain": [
       "True"
      ]
     },
     "execution_count": 27,
     "metadata": {},
     "output_type": "execute_result"
    }
   ],
   "source": [
    "obj3 = pd.isnull(obj2['California'])\n",
    "obj3\n"
   ]
  },
  {
   "cell_type": "code",
   "execution_count": 28,
   "id": "9995593e",
   "metadata": {},
   "outputs": [
    {
     "data": {
      "text/plain": [
       "True"
      ]
     },
     "execution_count": 28,
     "metadata": {},
     "output_type": "execute_result"
    }
   ],
   "source": [
    "x = obj2['California']\n",
    "obj2['California'] != x"
   ]
  },
  {
   "cell_type": "code",
   "execution_count": 32,
   "id": "9925b457",
   "metadata": {},
   "outputs": [
    {
     "data": {
      "text/plain": [
       "False"
      ]
     },
     "execution_count": 32,
     "metadata": {},
     "output_type": "execute_result"
    }
   ],
   "source": [
    "obj2['California'] == None"
   ]
  },
  {
   "cell_type": "code",
   "execution_count": 30,
   "id": "94e0a87f",
   "metadata": {},
   "outputs": [
    {
     "data": {
      "text/plain": [
       "True"
      ]
     },
     "execution_count": 30,
     "metadata": {},
     "output_type": "execute_result"
    }
   ],
   "source": [
    "import math\n",
    "math.isnan(obj2['California'])"
   ]
  },
  {
   "cell_type": "code",
   "execution_count": 35,
   "id": "bcb6d41d",
   "metadata": {},
   "outputs": [
    {
     "data": {
      "text/plain": [
       "1    Alice\n",
       "2      Bob\n",
       "3     Rita\n",
       "4    Molly\n",
       "5     Ryan\n",
       "dtype: object"
      ]
     },
     "execution_count": 35,
     "metadata": {},
     "output_type": "execute_result"
    }
   ],
   "source": [
    "import pandas as pd\n",
    "d = {'1': 'Alice','2': 'Bob','3': 'Rita','4': 'Molly','5': 'Ryan'}\n",
    "S = pd.Series(d)\n",
    "S"
   ]
  },
  {
   "cell_type": "code",
   "execution_count": 39,
   "id": "73cddcc0",
   "metadata": {},
   "outputs": [
    {
     "data": {
      "text/plain": [
       "1    Alice\n",
       "2      Bob\n",
       "3     Rita\n",
       "dtype: object"
      ]
     },
     "execution_count": 39,
     "metadata": {},
     "output_type": "execute_result"
    }
   ],
   "source": [
    "S.iloc[0:3]"
   ]
  },
  {
   "cell_type": "code",
   "execution_count": 40,
   "id": "c572b2d6",
   "metadata": {},
   "outputs": [],
   "source": [
    "import pandas as pd\n",
    "s1 = pd.Series({1: 'Alice', 2: 'Jack', 3: 'Molly'})\n",
    "s2 = pd.Series({'Alice': 1, 'Jack': 2, 'Molly': 3})"
   ]
  },
  {
   "cell_type": "code",
   "execution_count": 41,
   "id": "76f00a65",
   "metadata": {},
   "outputs": [
    {
     "data": {
      "text/plain": [
       "'Alice'"
      ]
     },
     "execution_count": 41,
     "metadata": {},
     "output_type": "execute_result"
    }
   ],
   "source": [
    "s1.loc[1]"
   ]
  },
  {
   "cell_type": "code",
   "execution_count": 42,
   "id": "8197ca3a",
   "metadata": {},
   "outputs": [
    {
     "data": {
      "text/plain": [
       "2"
      ]
     },
     "execution_count": 42,
     "metadata": {},
     "output_type": "execute_result"
    }
   ],
   "source": [
    "s2.iloc[1]"
   ]
  },
  {
   "cell_type": "code",
   "execution_count": 43,
   "id": "8412ea73",
   "metadata": {},
   "outputs": [
    {
     "data": {
      "text/plain": [
       "2"
      ]
     },
     "execution_count": 43,
     "metadata": {},
     "output_type": "execute_result"
    }
   ],
   "source": [
    "s2[1]"
   ]
  },
  {
   "cell_type": "code",
   "execution_count": 45,
   "id": "1f97f4ae",
   "metadata": {},
   "outputs": [
    {
     "data": {
      "text/plain": [
       "1        Alice\n",
       "2         Jack\n",
       "3        Molly\n",
       "Alice        1\n",
       "Jack         2\n",
       "Molly        3\n",
       "dtype: object"
      ]
     },
     "execution_count": 45,
     "metadata": {},
     "output_type": "execute_result"
    }
   ],
   "source": [
    "s1.append(s2)"
   ]
  },
  {
   "cell_type": "code",
   "execution_count": 46,
   "id": "225ae4e7",
   "metadata": {},
   "outputs": [
    {
     "ename": "KeyError",
     "evalue": "1",
     "output_type": "error",
     "traceback": [
      "\u001b[1;31m---------------------------------------------------------------------------\u001b[0m",
      "\u001b[1;31mKeyError\u001b[0m                                  Traceback (most recent call last)",
      "\u001b[1;32m~\\anaconda3\\lib\\site-packages\\pandas\\core\\indexes\\base.py\u001b[0m in \u001b[0;36mget_loc\u001b[1;34m(self, key, method, tolerance)\u001b[0m\n\u001b[0;32m   3079\u001b[0m             \u001b[1;32mtry\u001b[0m\u001b[1;33m:\u001b[0m\u001b[1;33m\u001b[0m\u001b[1;33m\u001b[0m\u001b[0m\n\u001b[1;32m-> 3080\u001b[1;33m                 \u001b[1;32mreturn\u001b[0m \u001b[0mself\u001b[0m\u001b[1;33m.\u001b[0m\u001b[0m_engine\u001b[0m\u001b[1;33m.\u001b[0m\u001b[0mget_loc\u001b[0m\u001b[1;33m(\u001b[0m\u001b[0mcasted_key\u001b[0m\u001b[1;33m)\u001b[0m\u001b[1;33m\u001b[0m\u001b[1;33m\u001b[0m\u001b[0m\n\u001b[0m\u001b[0;32m   3081\u001b[0m             \u001b[1;32mexcept\u001b[0m \u001b[0mKeyError\u001b[0m \u001b[1;32mas\u001b[0m \u001b[0merr\u001b[0m\u001b[1;33m:\u001b[0m\u001b[1;33m\u001b[0m\u001b[1;33m\u001b[0m\u001b[0m\n",
      "\u001b[1;32mpandas\\_libs\\index.pyx\u001b[0m in \u001b[0;36mpandas._libs.index.IndexEngine.get_loc\u001b[1;34m()\u001b[0m\n",
      "\u001b[1;32mpandas\\_libs\\index.pyx\u001b[0m in \u001b[0;36mpandas._libs.index.IndexEngine.get_loc\u001b[1;34m()\u001b[0m\n",
      "\u001b[1;32mpandas\\_libs\\hashtable_class_helper.pxi\u001b[0m in \u001b[0;36mpandas._libs.hashtable.PyObjectHashTable.get_item\u001b[1;34m()\u001b[0m\n",
      "\u001b[1;32mpandas\\_libs\\hashtable_class_helper.pxi\u001b[0m in \u001b[0;36mpandas._libs.hashtable.PyObjectHashTable.get_item\u001b[1;34m()\u001b[0m\n",
      "\u001b[1;31mKeyError\u001b[0m: 1",
      "\nThe above exception was the direct cause of the following exception:\n",
      "\u001b[1;31mKeyError\u001b[0m                                  Traceback (most recent call last)",
      "\u001b[1;32m<ipython-input-46-fbabad558474>\u001b[0m in \u001b[0;36m<module>\u001b[1;34m\u001b[0m\n\u001b[0;32m      1\u001b[0m \u001b[0ms2\u001b[0m \u001b[1;33m=\u001b[0m \u001b[0mpd\u001b[0m\u001b[1;33m.\u001b[0m\u001b[0mSeries\u001b[0m\u001b[1;33m(\u001b[0m\u001b[1;33m{\u001b[0m\u001b[1;34m'Alice'\u001b[0m\u001b[1;33m:\u001b[0m \u001b[1;36m1\u001b[0m\u001b[1;33m,\u001b[0m \u001b[1;34m'Jack'\u001b[0m\u001b[1;33m:\u001b[0m \u001b[1;36m2\u001b[0m\u001b[1;33m,\u001b[0m \u001b[1;34m'Molly'\u001b[0m\u001b[1;33m:\u001b[0m \u001b[1;36m3\u001b[0m\u001b[1;33m}\u001b[0m\u001b[1;33m)\u001b[0m\u001b[1;33m\u001b[0m\u001b[1;33m\u001b[0m\u001b[0m\n\u001b[1;32m----> 2\u001b[1;33m \u001b[0ms2\u001b[0m\u001b[1;33m.\u001b[0m\u001b[0mloc\u001b[0m\u001b[1;33m[\u001b[0m\u001b[1;36m1\u001b[0m\u001b[1;33m]\u001b[0m\u001b[1;33m\u001b[0m\u001b[1;33m\u001b[0m\u001b[0m\n\u001b[0m",
      "\u001b[1;32m~\\anaconda3\\lib\\site-packages\\pandas\\core\\indexing.py\u001b[0m in \u001b[0;36m__getitem__\u001b[1;34m(self, key)\u001b[0m\n\u001b[0;32m    893\u001b[0m \u001b[1;33m\u001b[0m\u001b[0m\n\u001b[0;32m    894\u001b[0m             \u001b[0mmaybe_callable\u001b[0m \u001b[1;33m=\u001b[0m \u001b[0mcom\u001b[0m\u001b[1;33m.\u001b[0m\u001b[0mapply_if_callable\u001b[0m\u001b[1;33m(\u001b[0m\u001b[0mkey\u001b[0m\u001b[1;33m,\u001b[0m \u001b[0mself\u001b[0m\u001b[1;33m.\u001b[0m\u001b[0mobj\u001b[0m\u001b[1;33m)\u001b[0m\u001b[1;33m\u001b[0m\u001b[1;33m\u001b[0m\u001b[0m\n\u001b[1;32m--> 895\u001b[1;33m             \u001b[1;32mreturn\u001b[0m \u001b[0mself\u001b[0m\u001b[1;33m.\u001b[0m\u001b[0m_getitem_axis\u001b[0m\u001b[1;33m(\u001b[0m\u001b[0mmaybe_callable\u001b[0m\u001b[1;33m,\u001b[0m \u001b[0maxis\u001b[0m\u001b[1;33m=\u001b[0m\u001b[0maxis\u001b[0m\u001b[1;33m)\u001b[0m\u001b[1;33m\u001b[0m\u001b[1;33m\u001b[0m\u001b[0m\n\u001b[0m\u001b[0;32m    896\u001b[0m \u001b[1;33m\u001b[0m\u001b[0m\n\u001b[0;32m    897\u001b[0m     \u001b[1;32mdef\u001b[0m \u001b[0m_is_scalar_access\u001b[0m\u001b[1;33m(\u001b[0m\u001b[0mself\u001b[0m\u001b[1;33m,\u001b[0m \u001b[0mkey\u001b[0m\u001b[1;33m:\u001b[0m \u001b[0mTuple\u001b[0m\u001b[1;33m)\u001b[0m\u001b[1;33m:\u001b[0m\u001b[1;33m\u001b[0m\u001b[1;33m\u001b[0m\u001b[0m\n",
      "\u001b[1;32m~\\anaconda3\\lib\\site-packages\\pandas\\core\\indexing.py\u001b[0m in \u001b[0;36m_getitem_axis\u001b[1;34m(self, key, axis)\u001b[0m\n\u001b[0;32m   1122\u001b[0m         \u001b[1;31m# fall thru to straight lookup\u001b[0m\u001b[1;33m\u001b[0m\u001b[1;33m\u001b[0m\u001b[1;33m\u001b[0m\u001b[0m\n\u001b[0;32m   1123\u001b[0m         \u001b[0mself\u001b[0m\u001b[1;33m.\u001b[0m\u001b[0m_validate_key\u001b[0m\u001b[1;33m(\u001b[0m\u001b[0mkey\u001b[0m\u001b[1;33m,\u001b[0m \u001b[0maxis\u001b[0m\u001b[1;33m)\u001b[0m\u001b[1;33m\u001b[0m\u001b[1;33m\u001b[0m\u001b[0m\n\u001b[1;32m-> 1124\u001b[1;33m         \u001b[1;32mreturn\u001b[0m \u001b[0mself\u001b[0m\u001b[1;33m.\u001b[0m\u001b[0m_get_label\u001b[0m\u001b[1;33m(\u001b[0m\u001b[0mkey\u001b[0m\u001b[1;33m,\u001b[0m \u001b[0maxis\u001b[0m\u001b[1;33m=\u001b[0m\u001b[0maxis\u001b[0m\u001b[1;33m)\u001b[0m\u001b[1;33m\u001b[0m\u001b[1;33m\u001b[0m\u001b[0m\n\u001b[0m\u001b[0;32m   1125\u001b[0m \u001b[1;33m\u001b[0m\u001b[0m\n\u001b[0;32m   1126\u001b[0m     \u001b[1;32mdef\u001b[0m \u001b[0m_get_slice_axis\u001b[0m\u001b[1;33m(\u001b[0m\u001b[0mself\u001b[0m\u001b[1;33m,\u001b[0m \u001b[0mslice_obj\u001b[0m\u001b[1;33m:\u001b[0m \u001b[0mslice\u001b[0m\u001b[1;33m,\u001b[0m \u001b[0maxis\u001b[0m\u001b[1;33m:\u001b[0m \u001b[0mint\u001b[0m\u001b[1;33m)\u001b[0m\u001b[1;33m:\u001b[0m\u001b[1;33m\u001b[0m\u001b[1;33m\u001b[0m\u001b[0m\n",
      "\u001b[1;32m~\\anaconda3\\lib\\site-packages\\pandas\\core\\indexing.py\u001b[0m in \u001b[0;36m_get_label\u001b[1;34m(self, label, axis)\u001b[0m\n\u001b[0;32m   1071\u001b[0m     \u001b[1;32mdef\u001b[0m \u001b[0m_get_label\u001b[0m\u001b[1;33m(\u001b[0m\u001b[0mself\u001b[0m\u001b[1;33m,\u001b[0m \u001b[0mlabel\u001b[0m\u001b[1;33m,\u001b[0m \u001b[0maxis\u001b[0m\u001b[1;33m:\u001b[0m \u001b[0mint\u001b[0m\u001b[1;33m)\u001b[0m\u001b[1;33m:\u001b[0m\u001b[1;33m\u001b[0m\u001b[1;33m\u001b[0m\u001b[0m\n\u001b[0;32m   1072\u001b[0m         \u001b[1;31m# GH#5667 this will fail if the label is not present in the axis.\u001b[0m\u001b[1;33m\u001b[0m\u001b[1;33m\u001b[0m\u001b[1;33m\u001b[0m\u001b[0m\n\u001b[1;32m-> 1073\u001b[1;33m         \u001b[1;32mreturn\u001b[0m \u001b[0mself\u001b[0m\u001b[1;33m.\u001b[0m\u001b[0mobj\u001b[0m\u001b[1;33m.\u001b[0m\u001b[0mxs\u001b[0m\u001b[1;33m(\u001b[0m\u001b[0mlabel\u001b[0m\u001b[1;33m,\u001b[0m \u001b[0maxis\u001b[0m\u001b[1;33m=\u001b[0m\u001b[0maxis\u001b[0m\u001b[1;33m)\u001b[0m\u001b[1;33m\u001b[0m\u001b[1;33m\u001b[0m\u001b[0m\n\u001b[0m\u001b[0;32m   1074\u001b[0m \u001b[1;33m\u001b[0m\u001b[0m\n\u001b[0;32m   1075\u001b[0m     \u001b[1;32mdef\u001b[0m \u001b[0m_handle_lowerdim_multi_index_axis0\u001b[0m\u001b[1;33m(\u001b[0m\u001b[0mself\u001b[0m\u001b[1;33m,\u001b[0m \u001b[0mtup\u001b[0m\u001b[1;33m:\u001b[0m \u001b[0mTuple\u001b[0m\u001b[1;33m)\u001b[0m\u001b[1;33m:\u001b[0m\u001b[1;33m\u001b[0m\u001b[1;33m\u001b[0m\u001b[0m\n",
      "\u001b[1;32m~\\anaconda3\\lib\\site-packages\\pandas\\core\\generic.py\u001b[0m in \u001b[0;36mxs\u001b[1;34m(self, key, axis, level, drop_level)\u001b[0m\n\u001b[0;32m   3737\u001b[0m                 \u001b[1;32mraise\u001b[0m \u001b[0mTypeError\u001b[0m\u001b[1;33m(\u001b[0m\u001b[1;34mf\"Expected label or tuple of labels, got {key}\"\u001b[0m\u001b[1;33m)\u001b[0m \u001b[1;32mfrom\u001b[0m \u001b[0me\u001b[0m\u001b[1;33m\u001b[0m\u001b[1;33m\u001b[0m\u001b[0m\n\u001b[0;32m   3738\u001b[0m         \u001b[1;32melse\u001b[0m\u001b[1;33m:\u001b[0m\u001b[1;33m\u001b[0m\u001b[1;33m\u001b[0m\u001b[0m\n\u001b[1;32m-> 3739\u001b[1;33m             \u001b[0mloc\u001b[0m \u001b[1;33m=\u001b[0m \u001b[0mindex\u001b[0m\u001b[1;33m.\u001b[0m\u001b[0mget_loc\u001b[0m\u001b[1;33m(\u001b[0m\u001b[0mkey\u001b[0m\u001b[1;33m)\u001b[0m\u001b[1;33m\u001b[0m\u001b[1;33m\u001b[0m\u001b[0m\n\u001b[0m\u001b[0;32m   3740\u001b[0m \u001b[1;33m\u001b[0m\u001b[0m\n\u001b[0;32m   3741\u001b[0m             \u001b[1;32mif\u001b[0m \u001b[0misinstance\u001b[0m\u001b[1;33m(\u001b[0m\u001b[0mloc\u001b[0m\u001b[1;33m,\u001b[0m \u001b[0mnp\u001b[0m\u001b[1;33m.\u001b[0m\u001b[0mndarray\u001b[0m\u001b[1;33m)\u001b[0m\u001b[1;33m:\u001b[0m\u001b[1;33m\u001b[0m\u001b[1;33m\u001b[0m\u001b[0m\n",
      "\u001b[1;32m~\\anaconda3\\lib\\site-packages\\pandas\\core\\indexes\\base.py\u001b[0m in \u001b[0;36mget_loc\u001b[1;34m(self, key, method, tolerance)\u001b[0m\n\u001b[0;32m   3080\u001b[0m                 \u001b[1;32mreturn\u001b[0m \u001b[0mself\u001b[0m\u001b[1;33m.\u001b[0m\u001b[0m_engine\u001b[0m\u001b[1;33m.\u001b[0m\u001b[0mget_loc\u001b[0m\u001b[1;33m(\u001b[0m\u001b[0mcasted_key\u001b[0m\u001b[1;33m)\u001b[0m\u001b[1;33m\u001b[0m\u001b[1;33m\u001b[0m\u001b[0m\n\u001b[0;32m   3081\u001b[0m             \u001b[1;32mexcept\u001b[0m \u001b[0mKeyError\u001b[0m \u001b[1;32mas\u001b[0m \u001b[0merr\u001b[0m\u001b[1;33m:\u001b[0m\u001b[1;33m\u001b[0m\u001b[1;33m\u001b[0m\u001b[0m\n\u001b[1;32m-> 3082\u001b[1;33m                 \u001b[1;32mraise\u001b[0m \u001b[0mKeyError\u001b[0m\u001b[1;33m(\u001b[0m\u001b[0mkey\u001b[0m\u001b[1;33m)\u001b[0m \u001b[1;32mfrom\u001b[0m \u001b[0merr\u001b[0m\u001b[1;33m\u001b[0m\u001b[1;33m\u001b[0m\u001b[0m\n\u001b[0m\u001b[0;32m   3083\u001b[0m \u001b[1;33m\u001b[0m\u001b[0m\n\u001b[0;32m   3084\u001b[0m         \u001b[1;32mif\u001b[0m \u001b[0mtolerance\u001b[0m \u001b[1;32mis\u001b[0m \u001b[1;32mnot\u001b[0m \u001b[1;32mNone\u001b[0m\u001b[1;33m:\u001b[0m\u001b[1;33m\u001b[0m\u001b[1;33m\u001b[0m\u001b[0m\n",
      "\u001b[1;31mKeyError\u001b[0m: 1"
     ]
    }
   ],
   "source": [
    "s2 = pd.Series({'Alice': 1, 'Jack': 2, 'Molly': 3})\n",
    "s2.loc[1]"
   ]
  },
  {
   "cell_type": "code",
   "execution_count": 47,
   "id": "7bfc9793",
   "metadata": {},
   "outputs": [
    {
     "data": {
      "text/plain": [
       "array([0, 1, 2, 3, 4, 5, 6, 7])"
      ]
     },
     "execution_count": 47,
     "metadata": {},
     "output_type": "execute_result"
    }
   ],
   "source": [
    "import numpy as np\n",
    "\n",
    "a = np.arange(8)\n",
    "a"
   ]
  },
  {
   "cell_type": "code",
   "execution_count": 48,
   "id": "a6de6566",
   "metadata": {},
   "outputs": [
    {
     "data": {
      "text/plain": [
       "array([4, 5])"
      ]
     },
     "execution_count": 48,
     "metadata": {},
     "output_type": "execute_result"
    }
   ],
   "source": [
    "b = a[4:6]\n",
    "b"
   ]
  },
  {
   "cell_type": "code",
   "execution_count": 51,
   "id": "fa07165a",
   "metadata": {},
   "outputs": [
    {
     "name": "stdout",
     "output_type": "stream",
     "text": [
      "[ 0  1  2  3 40 40  6  7]\n",
      "[ 0  1  2  3 40 40  6  7]\n"
     ]
    }
   ],
   "source": [
    "b[:] = 40\n",
    "print(a)\n",
    "print(a)"
   ]
  },
  {
   "cell_type": "code",
   "execution_count": 50,
   "id": "326b4d04",
   "metadata": {},
   "outputs": [
    {
     "data": {
      "text/plain": [
       "46"
      ]
     },
     "execution_count": 50,
     "metadata": {},
     "output_type": "execute_result"
    }
   ],
   "source": [
    "\n",
    "c = a[4] + a[6]\n",
    "c"
   ]
  },
  {
   "cell_type": "code",
   "execution_count": null,
   "id": "5af82d3a",
   "metadata": {},
   "outputs": [],
   "source": []
  }
 ],
 "metadata": {
  "kernelspec": {
   "display_name": "Python 3",
   "language": "python",
   "name": "python3"
  },
  "language_info": {
   "codemirror_mode": {
    "name": "ipython",
    "version": 3
   },
   "file_extension": ".py",
   "mimetype": "text/x-python",
   "name": "python",
   "nbconvert_exporter": "python",
   "pygments_lexer": "ipython3",
   "version": "3.8.8"
  }
 },
 "nbformat": 4,
 "nbformat_minor": 5
}
