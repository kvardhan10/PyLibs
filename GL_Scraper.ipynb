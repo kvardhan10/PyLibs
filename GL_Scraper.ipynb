{
 "cells": [
  {
   "cell_type": "code",
   "execution_count": 5,
   "id": "2caf2fe9",
   "metadata": {},
   "outputs": [],
   "source": [
    "import bs4\n",
    "from urllib.request import urlopen as uReq\n",
    "from bs4 import BeautifulSoup as soup"
   ]
  },
  {
   "cell_type": "code",
   "execution_count": 6,
   "id": "80cf36f8",
   "metadata": {},
   "outputs": [],
   "source": [
    "ai_eng = 'https://www.mygreatlearning.com/academy/career-paths/ai-engineer'\n",
    "\n",
    "uClient = uReq(ai_eng)\n",
    "ai_html = uClient.read()\n",
    "uClient.close()\n",
    "\n",
    "ai_soup = soup(ai_html, 'html.parser')\n",
    "\n",
    "ai_cont = ai_soup.findAll('div', {'class':'course-desc-name'})\n",
    "\n",
    "ai_list = []\n",
    "for item in ai_cont:\n",
    "    ai_list.append(item.text.strip().split('. ')[1])\n",
    "# ai_list\n",
    "\n"
   ]
  },
  {
   "cell_type": "code",
   "execution_count": 7,
   "id": "f2406858",
   "metadata": {},
   "outputs": [],
   "source": [
    "ml_eng = 'https://www.mygreatlearning.com/academy/career-paths/machine-learning-engineer'\n",
    "\n",
    "uClient = uReq(ml_eng)\n",
    "ml_html = uClient.read()\n",
    "uClient.close()\n",
    "\n",
    "ml_soup = soup(ml_html, 'html.parser')\n",
    "\n",
    "ml_cont = ml_soup.findAll('div', {'class':'course-desc-name'})\n",
    "\n",
    "ml_list = []\n",
    "for item in ml_cont:\n",
    "    ml_list.append(item.text.strip().split('. ')[1])\n",
    "# ml_list\n"
   ]
  },
  {
   "cell_type": "code",
   "execution_count": 8,
   "id": "4e864df4",
   "metadata": {},
   "outputs": [],
   "source": [
    "dt_eng = 'https://www.mygreatlearning.com/academy/career-paths/data-engineer'\n",
    "\n",
    "uClient = uReq(dt_eng)\n",
    "dt_html = uClient.read()\n",
    "uClient.close()\n",
    "\n",
    "dt_soup = soup(dt_html, 'html.parser')\n",
    "\n",
    "dt_cont = dt_soup.findAll('div', {'class':'course-desc-name'})\n",
    "\n",
    "dt_list = []\n",
    "for item in dt_cont:\n",
    "    dt_list.append(item.text.strip().split('. ')[1])\n",
    "# dt_list\n",
    "\n"
   ]
  },
  {
   "cell_type": "code",
   "execution_count": 9,
   "id": "fd91a460",
   "metadata": {},
   "outputs": [],
   "source": [
    "dt_sci = 'https://www.mygreatlearning.com/academy/career-paths/data-scientist'\n",
    "\n",
    "uClient = uReq(dt_sci)\n",
    "dt_sci_html = uClient.read()\n",
    "uClient.close()\n",
    "\n",
    "dt_sci_soup = soup(dt_sci_html, 'html.parser')\n",
    "\n",
    "dt_sci_cont = dt_sci_soup.findAll('div', {'class':'course-desc-name'})\n",
    "\n",
    "dt_sci_list = []\n",
    "for item in dt_sci_cont:\n",
    "    dt_sci_list.append(item.text.strip().split('. ')[1])\n",
    "# dt_sci_list\n",
    "\n"
   ]
  },
  {
   "cell_type": "markdown",
   "id": "0f53a4bf",
   "metadata": {},
   "source": [
    "## AI Engineer"
   ]
  },
  {
   "cell_type": "code",
   "execution_count": 10,
   "id": "c9f58df3",
   "metadata": {},
   "outputs": [
    {
     "name": "stdout",
     "output_type": "stream",
     "text": [
      "26\n"
     ]
    }
   ],
   "source": [
    "print(len(ai_list))\n",
    "# print(ai_list)\n",
    "final = []\n",
    "# final.append(ai_list)"
   ]
  },
  {
   "cell_type": "markdown",
   "id": "8e7e75b8",
   "metadata": {},
   "source": [
    "## ML Engineer"
   ]
  },
  {
   "cell_type": "code",
   "execution_count": 11,
   "id": "26160d94",
   "metadata": {},
   "outputs": [
    {
     "name": "stdout",
     "output_type": "stream",
     "text": [
      "42\n"
     ]
    }
   ],
   "source": [
    "# print(ml_list)\n",
    "print(len(ml_list))\n",
    "# final.append(ml_list)"
   ]
  },
  {
   "cell_type": "markdown",
   "id": "0fea89ab",
   "metadata": {},
   "source": [
    "## Data Engineer"
   ]
  },
  {
   "cell_type": "code",
   "execution_count": 12,
   "id": "a93f2c7e",
   "metadata": {},
   "outputs": [
    {
     "name": "stdout",
     "output_type": "stream",
     "text": [
      "23\n"
     ]
    }
   ],
   "source": [
    "# print(dt_list)\n",
    "print(len(dt_list))\n",
    "# final.append(dt_list)"
   ]
  },
  {
   "cell_type": "markdown",
   "id": "1e965c52",
   "metadata": {},
   "source": [
    "## Data Science"
   ]
  },
  {
   "cell_type": "code",
   "execution_count": 13,
   "id": "daaf6011",
   "metadata": {},
   "outputs": [
    {
     "name": "stdout",
     "output_type": "stream",
     "text": [
      "42\n"
     ]
    }
   ],
   "source": [
    "# print(dt_sci_list)\n",
    "print(len(dt_sci_list))\n",
    "# final.append(dt_sci_list)"
   ]
  },
  {
   "cell_type": "markdown",
   "id": "3108cae1",
   "metadata": {},
   "source": [
    "## Final"
   ]
  },
  {
   "cell_type": "code",
   "execution_count": 15,
   "id": "b9367b03",
   "metadata": {},
   "outputs": [
    {
     "name": "stdout",
     "output_type": "stream",
     "text": [
      "['Python Fundamentals for Beginners', 'Python for Machine Learning', 'Artificial Intelligence with Python', 'Machine Learning with Python', 'TensorFlow Python', 'Deep Learning with Python', 'Reinforcement Learning with Python', 'Computer Vision Essentials', 'Introduction to Natural Language Processing', 'Introduction to Big Data and Hadoop', 'Hadoop: Map Reduce', 'Introduction to Apache Hive', 'Spark Basics', 'Spark: PySpark', 'Data Analysis using PySpark', 'NoSQL Database', 'Mongodb Tutorial', 'My SQL Basics', 'SQL for Data Science', 'What is SQL Triggers?', 'Introduction to R', 'Broadband Database Management System', 'HR Database Management System', 'SQL Projects for Beginners', 'OpenCV Tutorial', 'Face Detection with OpenCV in Python', 'Python for Machine Learning', 'Basics of Machine Learning', 'Probability and Probability Distributions for Machine Learning', 'Descriptive Statistics', 'Hypothesis Testing', 'Statistics for Machine Learning', 'Statistical Analysis', 'Python for Data Analysis', 'Basics of EDA with Python', 'Data Visualization using Python', 'Linear Regression', 'Supervised Machine Learning with Logistic Regression and Naïve Bayes', 'Supervised Machine Learning with Tree Based Models', 'Unsupervised Machine Learning with K-means', 'Introduction to Tensorflow and Keras', 'Introduction to Deep Learning', 'Introduction to Neural Networks and Deep Learning', 'Cloud Foundations', 'Cloud Foundations - Advanced', 'Cloud Computing Service Models', 'Cloud Computing Architecture', 'Cloud Service Providers', 'Applications of Cloud Computing', 'AWS For Beginners', 'Databases and Files Systems in AWS', 'AWS Project', 'Microsoft Azure Essentials', 'Microsoft Azure Application', 'Jenkins Tutorial', 'GitHub Tutorial for Beginners', 'Introduction to DevOps', 'Docker Best Practices', 'Docker for Intermediate Level', 'Monitoring in Docker', 'Docker Orchestration', 'Docker Projects', 'Introduction to Kubernetes', 'Splunk Tutorial', 'Introduction to R', 'Introduction to Big Data and Hadoop', 'Introduction to Apache Hive', 'Spark Basics', 'Introduction to Big Data and Hadoop', 'Hadoop: Map Reduce', 'Introduction to Apache Hive', 'Spark Basics', 'Spark: PySpark', 'Cloud Foundations', 'Cloud Foundations - Advanced', 'Cloud Computing Service Models', 'Cloud Computing Architecture', 'Cloud Service Providers', 'Applications of Cloud Computing', 'AWS For Beginners', 'Databases and Files Systems in AWS', 'AWS Project', 'Microsoft Azure Essentials', 'Microsoft Azure Application', 'My SQL Basics', 'SQL for Data Science', 'What is SQL Triggers?', 'Introduction to R', 'Python Fundamentals for Beginners', 'Basics of Machine Learning', 'Introduction to Machine Learning in AWS', 'Data Science Foundations', 'Python Fundamentals for Beginners', 'Python for Data Science', 'Data Visualization using Python', 'Probability for Data Science', 'Descriptive Statistics', 'Hypothesis Testing', 'Statistics for Data Science', 'Data Visualization using Tableau', 'Data Visualization With Power BI', 'Basics of EDA with Python', 'Data Mining Projects', 'Data Science with Python', 'Unsupervised Machine Learning with K-means', 'Python Project for Beginners', 'Prediction Project Using Python', 'Deep Learning with Python', 'Reinforcement Learning with Python', 'Digital Image Processing', 'Case Studies from Retail and E-commerce', 'Case Studies from Banking and Finance Industry', 'Machine Learning Model Deployment using Flask', 'Model Deployment using Heroku', 'What is Forecasting?', 'Time Series Analysis Stock Market Prediction Python', 'Introduction to R', 'Basics of Exploratory Data Analysis', 'Probability and Probability Distributions for Machine Learning', 'Statistical Methods for Decision Making', 'Predictive Modeling and Analytics - Regression', 'Clustering in R', 'Financial Risk Analytics', 'Marketing and Retail Analytics', 'Marketing & Retail Analytics - Advanced', 'Linear Programming for Data Science', 'Data Visualisation with R', 'Fake News Detection using Machine Learning', 'Popular Applications of Data Science', 'Time Series Analysis in R', 'Multivariate Time Series Forecasting in R', 'Linear Discriminant Analysis Applications', 'Time Series in Manufacturing Industry']\n"
     ]
    },
    {
     "data": {
      "text/plain": [
       "133"
      ]
     },
     "execution_count": 15,
     "metadata": {},
     "output_type": "execute_result"
    }
   ],
   "source": [
    "final = ai_list + ml_list + dt_list + dt_sci_list\n",
    "print(final)\n",
    "len(ai_list + ml_list + dt_list + dt_sci_list)\n"
   ]
  },
  {
   "cell_type": "markdown",
   "id": "9ce0b342",
   "metadata": {},
   "source": [
    "## Generating list of unique courses"
   ]
  },
  {
   "cell_type": "markdown",
   "id": "c2793966",
   "metadata": {},
   "source": [
    "### start executing from here"
   ]
  },
  {
   "cell_type": "code",
   "execution_count": 26,
   "id": "6cc7ec6d",
   "metadata": {},
   "outputs": [
    {
     "name": "stdout",
     "output_type": "stream",
     "text": [
      "96\n",
      "96\n"
     ]
    },
    {
     "data": {
      "text/plain": [
       "96"
      ]
     },
     "execution_count": 26,
     "metadata": {},
     "output_type": "execute_result"
    }
   ],
   "source": [
    "import numpy as np\n",
    "\n",
    "final_final = np.array(final)\n",
    "unique_list = list(np.unique(final_final))\n",
    "\n",
    "print(len(unique_list))\n",
    "\n",
    "unique_copy = []\n",
    "unique_copy = unique_list\n",
    "print(len(unique_copy))\n",
    "len(unique_list)"
   ]
  },
  {
   "cell_type": "markdown",
   "id": "37633c62",
   "metadata": {},
   "source": [
    "## Comparing each list with unique list"
   ]
  },
  {
   "cell_type": "code",
   "execution_count": 27,
   "id": "581df332",
   "metadata": {},
   "outputs": [
    {
     "name": "stdout",
     "output_type": "stream",
     "text": [
      "The unique courses from AI Engineer are: \n",
      "Python Fundamentals for Beginners\n",
      "Python for Machine Learning\n",
      "Artificial Intelligence with Python\n",
      "Machine Learning with Python\n",
      "TensorFlow Python\n",
      "Deep Learning with Python\n",
      "Reinforcement Learning with Python\n",
      "Computer Vision Essentials\n",
      "Introduction to Natural Language Processing\n",
      "Introduction to Big Data and Hadoop\n",
      "Hadoop: Map Reduce\n",
      "Introduction to Apache Hive\n",
      "Spark Basics\n",
      "Spark: PySpark\n",
      "Data Analysis using PySpark\n",
      "NoSQL Database\n",
      "Mongodb Tutorial\n",
      "My SQL Basics\n",
      "SQL for Data Science\n",
      "What is SQL Triggers?\n",
      "Introduction to R\n",
      "Broadband Database Management System\n",
      "HR Database Management System\n",
      "SQL Projects for Beginners\n",
      "OpenCV Tutorial\n",
      "Face Detection with OpenCV in Python\n",
      "26\n",
      "26\n"
     ]
    }
   ],
   "source": [
    "ai_count = 0\n",
    "print('The unique courses from AI Engineer are: ')\n",
    "for item in ai_list:\n",
    "    if item in unique_copy:\n",
    "        ai_count+=1\n",
    "        print(item)\n",
    "        unique_copy.remove(item)\n",
    "print(ai_count)\n",
    "print(len(ai_list))"
   ]
  },
  {
   "cell_type": "code",
   "execution_count": 28,
   "id": "a9406f90",
   "metadata": {},
   "outputs": [
    {
     "name": "stdout",
     "output_type": "stream",
     "text": [
      "The unique courses from ML Engineer are: \n",
      "Basics of Machine Learning\n",
      "Probability and Probability Distributions for Machine Learning\n",
      "Descriptive Statistics\n",
      "Hypothesis Testing\n",
      "Statistics for Machine Learning\n",
      "Statistical Analysis\n",
      "Python for Data Analysis\n",
      "Basics of EDA with Python\n",
      "Data Visualization using Python\n",
      "Linear Regression\n",
      "Supervised Machine Learning with Logistic Regression and Naïve Bayes\n",
      "Supervised Machine Learning with Tree Based Models\n",
      "Unsupervised Machine Learning with K-means\n",
      "Introduction to Tensorflow and Keras\n",
      "Introduction to Deep Learning\n",
      "Introduction to Neural Networks and Deep Learning\n",
      "Cloud Foundations\n",
      "Cloud Foundations - Advanced\n",
      "Cloud Computing Service Models\n",
      "Cloud Computing Architecture\n",
      "Cloud Service Providers\n",
      "Applications of Cloud Computing\n",
      "AWS For Beginners\n",
      "Databases and Files Systems in AWS\n",
      "AWS Project\n",
      "Microsoft Azure Essentials\n",
      "Microsoft Azure Application\n",
      "Jenkins Tutorial\n",
      "GitHub Tutorial for Beginners\n",
      "Introduction to DevOps\n",
      "Docker Best Practices\n",
      "Docker for Intermediate Level\n",
      "Monitoring in Docker\n",
      "Docker Orchestration\n",
      "Docker Projects\n",
      "Introduction to Kubernetes\n",
      "Splunk Tutorial\n",
      "37\n",
      "42\n"
     ]
    }
   ],
   "source": [
    "ml_count = 0\n",
    "print('The unique courses from ML Engineer are: ')\n",
    "for item in ml_list:\n",
    "    if item in unique_copy:\n",
    "        ml_count+=1\n",
    "        print(item)\n",
    "        unique_copy.remove(item)\n",
    "print(ml_count)\n",
    "print(len(ml_list))"
   ]
  },
  {
   "cell_type": "code",
   "execution_count": 29,
   "id": "87375ba2",
   "metadata": {},
   "outputs": [
    {
     "name": "stdout",
     "output_type": "stream",
     "text": [
      "The unique courses from Data Engineer are: \n",
      "Introduction to Machine Learning in AWS\n",
      "1\n",
      "23\n"
     ]
    }
   ],
   "source": [
    "dt_count = 0\n",
    "print('The unique courses from Data Engineer are: ')\n",
    "for item in dt_list:\n",
    "    if item in unique_copy:\n",
    "        dt_count+=1\n",
    "        print(item)\n",
    "        unique_copy.remove(item)\n",
    "print(dt_count)\n",
    "print(len(dt_list))"
   ]
  },
  {
   "cell_type": "code",
   "execution_count": 30,
   "id": "05c972a1",
   "metadata": {},
   "outputs": [
    {
     "name": "stdout",
     "output_type": "stream",
     "text": [
      "The unique courses from Data Scientist are: \n",
      "Data Science Foundations\n",
      "Python for Data Science\n",
      "Probability for Data Science\n",
      "Statistics for Data Science\n",
      "Data Visualization using Tableau\n",
      "Data Visualization With Power BI\n",
      "Data Mining Projects\n",
      "Data Science with Python\n",
      "Python Project for Beginners\n",
      "Prediction Project Using Python\n",
      "Digital Image Processing\n",
      "Case Studies from Retail and E-commerce\n",
      "Case Studies from Banking and Finance Industry\n",
      "Machine Learning Model Deployment using Flask\n",
      "Model Deployment using Heroku\n",
      "What is Forecasting?\n",
      "Time Series Analysis Stock Market Prediction Python\n",
      "Basics of Exploratory Data Analysis\n",
      "Statistical Methods for Decision Making\n",
      "Predictive Modeling and Analytics - Regression\n",
      "Clustering in R\n",
      "Financial Risk Analytics\n",
      "Marketing and Retail Analytics\n",
      "Marketing & Retail Analytics - Advanced\n",
      "Linear Programming for Data Science\n",
      "Data Visualisation with R\n",
      "Fake News Detection using Machine Learning\n",
      "Popular Applications of Data Science\n",
      "Time Series Analysis in R\n",
      "Multivariate Time Series Forecasting in R\n",
      "Linear Discriminant Analysis Applications\n",
      "Time Series in Manufacturing Industry\n",
      "32\n",
      "42\n"
     ]
    }
   ],
   "source": [
    "dt_sci_count = 0\n",
    "print('The unique courses from Data Scientist are: ')\n",
    "for item in dt_sci_list:\n",
    "    if item in unique_copy:\n",
    "        dt_sci_count+=1\n",
    "        print(item)\n",
    "        unique_copy.remove(item)\n",
    "print(dt_sci_count)\n",
    "print(len(dt_sci_list))"
   ]
  },
  {
   "cell_type": "code",
   "execution_count": 21,
   "id": "e213b14d",
   "metadata": {},
   "outputs": [
    {
     "data": {
      "text/plain": [
       "[]"
      ]
     },
     "execution_count": 21,
     "metadata": {},
     "output_type": "execute_result"
    }
   ],
   "source": [
    "unique_copy"
   ]
  }
 ],
 "metadata": {
  "kernelspec": {
   "display_name": "Python 3",
   "language": "python",
   "name": "python3"
  },
  "language_info": {
   "codemirror_mode": {
    "name": "ipython",
    "version": 3
   },
   "file_extension": ".py",
   "mimetype": "text/x-python",
   "name": "python",
   "nbconvert_exporter": "python",
   "pygments_lexer": "ipython3",
   "version": "3.8.8"
  }
 },
 "nbformat": 4,
 "nbformat_minor": 5
}
